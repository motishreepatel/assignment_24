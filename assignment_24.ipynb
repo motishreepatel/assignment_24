{
 "cells": [
  {
   "cell_type": "code",
   "execution_count": null,
   "metadata": {},
   "outputs": [],
   "source": [
    "#Q - What is the relationship between def statements and lambda expressions ?\n",
    "#Answer:\n",
    "- The def statements used to define named function with blocks of code to excute while lambda is an anonymous function with an expression.\n",
    "Exp:\n",
    "def add(x,y):\n",
    "    return x+y\n",
    "\n",
    "add = lambda x,y : x+y\n",
    "\n",
    "- The def statements can contain multiple statements in block while lambda function can have only one expession\n",
    "- The def statement can explicitly use the return statement to return a value, while lambda expressions implicitly return the value of the expression."
   ]
  },
  {
   "cell_type": "code",
   "execution_count": null,
   "metadata": {},
   "outputs": [],
   "source": [
    "#Q - 2. What is the benefit of lambda?\n",
    "#Answer:\n",
    "- Lambda function can improve code readability by making the function definition more localized and avoiding the need to define a separate named function elsewhere.\n",
    "- Lambda expressions provide a compact and concise syntax for defining small, anonymous functions in a single line of code.\n",
    "- Lambda expressions are often used in conjunction with higher-order functions like map(), filter(), and reduce(). \n",
    "- Since lambda expressions are expressions rather than statements, they can be used in places where a function is expected as an argument. This allows for more flexible and dynamic code."
   ]
  },
  {
   "cell_type": "code",
   "execution_count": null,
   "metadata": {},
   "outputs": [],
   "source": [
    "#Q - 3. Compare and contrast map, filter, and reduce.\n",
    "#Answer:\n",
    "Map - map(function, iterable) applies function to each element of iterable and returns a new iterable of same length.\n",
    "Filter - filter(condition, iterable) selects elements from iterable that satisfy condition. Filter evaluates a Boolean condition for each element of the input iterable and returns a new iterable containing only the elements that pass the condition.\n",
    "Reduce - reduce(function, sequence) applies function to the first two elements of sequence, then to the result and the next element, and so on, until a single result is obtained.\n",
    "\n"
   ]
  },
  {
   "cell_type": "code",
   "execution_count": null,
   "metadata": {},
   "outputs": [],
   "source": [
    "#Q - 4. What are function annotations, and how are they used?\n",
    "#Answer:\n",
    "Function annotations provide a way to indicate type of the function arguments and the return type.\n",
    "def greet(name:str)->str:\n",
    "    return f\"Hello, {name}\"\n",
    "\n",
    "Here 'name:str' is the function annotation where the parameter is name and type of name should be str and '->str' represents that the output should be of type str.\n",
    "Function annotations are optional and do not affect the actual execution of the function."
   ]
  },
  {
   "cell_type": "code",
   "execution_count": null,
   "metadata": {},
   "outputs": [],
   "source": [
    "#Q - 5. What are recursive functions, and how are they used?\n",
    "#Answer:\n",
    "Recursive functions are the ones which call themselves within their own function definition. \n",
    "Solving problems using recursive functions typically involves two processes:\n",
    "i. Base case - These are the terminating condition when the recursion should stop.\n",
    "ii. Recursive case - These are the cases when the function call itself with modified input parameters.\n",
    "\n",
    "Exp:\n",
    "def factorial(n):\n",
    "    if n==0:\n",
    "        return 1 #base case\n",
    "    else:\n",
    "        return n*factorial(n-1) #recursive case"
   ]
  },
  {
   "cell_type": "code",
   "execution_count": null,
   "metadata": {},
   "outputs": [],
   "source": [
    "#Q - 6. What are some general design guidelines for coding functions?\n",
    "#Answer:\n",
    "Below are few design guidelines for coding functions:\n",
    "Function Name, Function Parameters, Function Purpose, Code Reusability, Error Handling, Code Formatting and Style etc."
   ]
  },
  {
   "cell_type": "code",
   "execution_count": 1,
   "metadata": {},
   "outputs": [
    {
     "name": "stdout",
     "output_type": "stream",
     "text": [
      "5\n",
      "[1, 2, 3, 4]\n",
      "Message: Hello\n"
     ]
    }
   ],
   "source": [
    "#Q - 7. Name three or more ways that functions can communicate results to a caller.\n",
    "#Answer:\n",
    "'''Functions can communicate results to a caller in several ways.Here are some examples:\n",
    "- return statement: Functions can use the return statement to send a value or multiple values back to the caller.'''\n",
    "def add_numbers(a, b):\n",
    "    return a + b\n",
    "\n",
    "result = add_numbers(2, 3)\n",
    "print(result)\n",
    "\n",
    "'''- Modifying Mutable Objects: Functions can modify mutable objects passed as arguments. '''\n",
    "def add_value_to_list(value, my_list):\n",
    "    my_list.append(value)\n",
    "\n",
    "numbers = [1, 2, 3]\n",
    "add_value_to_list(4, numbers)\n",
    "print(numbers)\n",
    "\n",
    "'''- Side Effects: Functions can communicate results indirectly by producing side effects. \n",
    "Examples of side effects include printing output, writing to files, modifying global variables, or interacting with a database. '''\n",
    "def print_message(message):\n",
    "    print(\"Message:\", message)\n",
    "\n",
    "print_message(\"Hello\") "
   ]
  },
  {
   "cell_type": "code",
   "execution_count": null,
   "metadata": {},
   "outputs": [],
   "source": []
  }
 ],
 "metadata": {
  "kernelspec": {
   "display_name": "Python 3.9.6 64-bit",
   "language": "python",
   "name": "python3"
  },
  "language_info": {
   "codemirror_mode": {
    "name": "ipython",
    "version": 3
   },
   "file_extension": ".py",
   "mimetype": "text/x-python",
   "name": "python",
   "nbconvert_exporter": "python",
   "pygments_lexer": "ipython3",
   "version": "3.9.6"
  },
  "orig_nbformat": 4,
  "vscode": {
   "interpreter": {
    "hash": "31f2aee4e71d21fbe5cf8b01ff0e069b9275f58929596ceb00d14d90e3e16cd6"
   }
  }
 },
 "nbformat": 4,
 "nbformat_minor": 2
}
